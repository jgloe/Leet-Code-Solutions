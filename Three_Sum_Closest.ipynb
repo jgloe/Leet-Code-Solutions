{
 "cells": [
  {
   "attachments": {},
   "cell_type": "markdown",
   "metadata": {},
   "source": [
    "Leet code problem\\\n",
    "Given a list of integers and a target, return the sum of the three values which is closest to target"
   ]
  },
  {
   "cell_type": "code",
   "execution_count": 1,
   "metadata": {},
   "outputs": [],
   "source": [
    "def threeSumClosest(nums, target):\n",
    "\n",
    "    '''\n",
    "    Given a List of integers nums and an integer target, return the sum of the three values which is closest to target\n",
    "    '''\n",
    "\n",
    "    # Sort the list, initialize variables\n",
    "    nums.sort()\n",
    "    close_sum = nums[0] + nums[1] + nums[-1]\n",
    "    eps = abs(target - close_sum)\n",
    "\n",
    "    # Loop over list\n",
    "    for i in range(len(nums)):\n",
    "        diff = target - nums[i]\n",
    "\n",
    "        # Loop over two pointers travelling in opposite directions\n",
    "        left = i + 1\n",
    "        right = len(nums) - 1\n",
    "\n",
    "        while (right - left > 0):\n",
    "\n",
    "            # Update distance if improved\n",
    "            if (abs(diff - nums[left] - nums[right]) < eps):\n",
    "                eps = abs(diff - nums[left] - nums[right])\n",
    "                close_sum = nums[i] + nums[left] + nums[right]\n",
    "\n",
    "            if (nums[left] + nums[right] > diff):\n",
    "                right -= 1\n",
    "            elif (nums[left] + nums[right] < diff):\n",
    "                left += 1\n",
    "            else:\n",
    "                return target\n",
    "                \n",
    "    return close_sum"
   ]
  },
  {
   "cell_type": "code",
   "execution_count": 2,
   "metadata": {},
   "outputs": [
    {
     "data": {
      "text/plain": [
       "5"
      ]
     },
     "execution_count": 2,
     "metadata": {},
     "output_type": "execute_result"
    }
   ],
   "source": [
    "test_list = [4, 3, -1, -2, 5]\n",
    "target = 4\n",
    "threeSumClosest(test_list, target)"
   ]
  },
  {
   "cell_type": "code",
   "execution_count": null,
   "metadata": {},
   "outputs": [],
   "source": []
  }
 ],
 "metadata": {
  "kernelspec": {
   "display_name": "base",
   "language": "python",
   "name": "python3"
  },
  "language_info": {
   "codemirror_mode": {
    "name": "ipython",
    "version": 3
   },
   "file_extension": ".py",
   "mimetype": "text/x-python",
   "name": "python",
   "nbconvert_exporter": "python",
   "pygments_lexer": "ipython3",
   "version": "3.9.13"
  },
  "orig_nbformat": 4,
  "vscode": {
   "interpreter": {
    "hash": "64c9f9e2ddf86f7a864271ae4ca1664fec9169d8a2a866686620ae259bdb39e6"
   }
  }
 },
 "nbformat": 4,
 "nbformat_minor": 2
}
