{
 "cells": [
  {
   "cell_type": "code",
   "execution_count": 19,
   "metadata": {},
   "outputs": [],
   "source": [
    "def twoSum(nums, val, left=0):\n",
    "\n",
    "    '''\n",
    "    Given a sorted list of integers, return all distinct pairs that add to the sum val\n",
    "    '''\n",
    "\n",
    "    sum_list = []\n",
    "    right = len(nums) - 1\n",
    "    while (right - left > 0):\n",
    "        if (nums[left] + nums[right] > val):\n",
    "            right -= 1\n",
    "        elif (nums[left] + nums[right] < val):\n",
    "            left += 1\n",
    "        else:\n",
    "            if [nums[left], nums[right]] not in sum_list:\n",
    "                sum_list += [[nums[left], nums[right]]]\n",
    "            left += 1\n",
    "    return sum_list"
   ]
  },
  {
   "cell_type": "code",
   "execution_count": 22,
   "metadata": {},
   "outputs": [],
   "source": [
    "def threeSum(nums):\n",
    "    '''\n",
    "    Given a list of integers, return all triples that sum to zero. The triples must be unique\n",
    "    '''\n",
    "\n",
    "    # Sort the list\n",
    "    nums.sort()\n",
    "    triplets = []\n",
    "\n",
    "    # Loop over list. For each value in the list, the remaining problem becomes two-sum\n",
    "    for i in range(len(nums)):\n",
    "        val = -nums[i]\n",
    "\n",
    "        # Loop over two pointers travelling in opposite directions\n",
    "        left = i + 1\n",
    "        right = len(nums) - 1\n",
    "        while (right - left > 0):\n",
    "            if (nums[left] + nums[right] > val):\n",
    "                right -= 1\n",
    "            elif (nums[left] + nums[right] < val):\n",
    "                left += 1\n",
    "            else:\n",
    "                if [nums[i], nums[left], nums[right]] not in triplets:\n",
    "                    triplets += [[nums[i], nums[left], nums[right]]]\n",
    "                left += 1\n",
    "    return triplets"
   ]
  },
  {
   "cell_type": "code",
   "execution_count": 23,
   "metadata": {},
   "outputs": [
    {
     "data": {
      "text/plain": [
       "[[-1, -1, 2], [-1, 0, 1]]"
      ]
     },
     "execution_count": 23,
     "metadata": {},
     "output_type": "execute_result"
    }
   ],
   "source": [
    "test = [-1, 0, 1, 2, -1, -4]\n",
    "threeSum(test)"
   ]
  },
  {
   "cell_type": "code",
   "execution_count": null,
   "metadata": {},
   "outputs": [],
   "source": []
  }
 ],
 "metadata": {
  "kernelspec": {
   "display_name": "base",
   "language": "python",
   "name": "python3"
  },
  "language_info": {
   "codemirror_mode": {
    "name": "ipython",
    "version": 3
   },
   "file_extension": ".py",
   "mimetype": "text/x-python",
   "name": "python",
   "nbconvert_exporter": "python",
   "pygments_lexer": "ipython3",
   "version": "3.9.13"
  },
  "orig_nbformat": 4,
  "vscode": {
   "interpreter": {
    "hash": "64c9f9e2ddf86f7a864271ae4ca1664fec9169d8a2a866686620ae259bdb39e6"
   }
  }
 },
 "nbformat": 4,
 "nbformat_minor": 2
}
