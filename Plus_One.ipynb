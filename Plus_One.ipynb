{
 "cells": [
  {
   "attachments": {},
   "cell_type": "markdown",
   "metadata": {},
   "source": [
    "Leet code problem\\\n",
    "Given a list of integers, return a list representing the numerical representation of the given list, plus one"
   ]
  },
  {
   "cell_type": "code",
   "execution_count": 1,
   "metadata": {},
   "outputs": [],
   "source": [
    "def plusOne(digits):\n",
    "\n",
    "    # Begin at last digit, increasing until final digit isn't a 9\n",
    "    last_index = len(digits) - 1\n",
    "    while (last_index >= 0) and (digits[last_index] == 9):\n",
    "        digits[last_index] = 0\n",
    "        last_index -= 1\n",
    "       \n",
    "    # If we reached the beginning of list, concatenate 1 at beginning\n",
    "    # Otherwise, increase by 1\n",
    "    if (last_index < 0):\n",
    "        digits = [1] + digits\n",
    "    else:\n",
    "        digits[last_index] += 1\n",
    "\n",
    "    return digits"
   ]
  },
  {
   "cell_type": "code",
   "execution_count": 2,
   "metadata": {},
   "outputs": [
    {
     "data": {
      "text/plain": [
       "[1, 0, 0, 0]"
      ]
     },
     "execution_count": 2,
     "metadata": {},
     "output_type": "execute_result"
    }
   ],
   "source": [
    "digits = [9, 9, 9]\n",
    "plusOne(digits)"
   ]
  },
  {
   "cell_type": "code",
   "execution_count": null,
   "metadata": {},
   "outputs": [],
   "source": []
  }
 ],
 "metadata": {
  "kernelspec": {
   "display_name": "base",
   "language": "python",
   "name": "python3"
  },
  "language_info": {
   "codemirror_mode": {
    "name": "ipython",
    "version": 3
   },
   "file_extension": ".py",
   "mimetype": "text/x-python",
   "name": "python",
   "nbconvert_exporter": "python",
   "pygments_lexer": "ipython3",
   "version": "3.9.13"
  },
  "orig_nbformat": 4,
  "vscode": {
   "interpreter": {
    "hash": "64c9f9e2ddf86f7a864271ae4ca1664fec9169d8a2a866686620ae259bdb39e6"
   }
  }
 },
 "nbformat": 4,
 "nbformat_minor": 2
}
